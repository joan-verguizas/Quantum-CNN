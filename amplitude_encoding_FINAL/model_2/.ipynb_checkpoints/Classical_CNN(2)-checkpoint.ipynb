{
 "cells": [
  {
   "cell_type": "code",
   "execution_count": 73,
   "id": "b912bd9b",
   "metadata": {},
   "outputs": [],
   "source": [
    "#libraries\n",
    "\n",
    "import tensorflow as tf\n",
    "import tensorflow_quantum as tfq\n",
    "import cirq\n",
    "import sympy\n",
    "import numpy as np\n",
    "#import seaborn as sns\n",
    "import collections\n",
    "\n",
    "# visualization tools\n",
    "%matplotlib inline\n",
    "import matplotlib.pyplot as plt\n",
    "from cirq.contrib.svg import SVGCircuit\n"
   ]
  },
  {
   "cell_type": "markdown",
   "id": "55d66c26",
   "metadata": {},
   "source": [
    "## Import the data"
   ]
  },
  {
   "cell_type": "code",
   "execution_count": 2,
   "id": "f8cafef5",
   "metadata": {},
   "outputs": [
    {
     "name": "stdout",
     "output_type": "stream",
     "text": [
      "Number of original training examples: 60000\n",
      "Number of original test examples: 10000\n"
     ]
    }
   ],
   "source": [
    "(x_train, y_train), (x_test, y_test) = tf.keras.datasets.mnist.load_data()\n",
    "\n",
    "# Rescale the images from [0,255] to the [0.0,1.0] range.\n",
    "x_train, x_test = x_train[..., np.newaxis]/255.0, x_test[..., np.newaxis]/255.0\n",
    "\n",
    "print(\"Number of original training examples:\", len(x_train))\n",
    "print(\"Number of original test examples:\", len(x_test))\n"
   ]
  },
  {
   "cell_type": "markdown",
   "id": "267ed647",
   "metadata": {},
   "source": [
    "# Filter the 3 and 6 labels"
   ]
  },
  {
   "cell_type": "code",
   "execution_count": 3,
   "id": "1d4d9b70",
   "metadata": {},
   "outputs": [],
   "source": [
    "def filter_36(x, y):\n",
    "    keep = (y == 3) | (y == 6)\n",
    "    x, y = x[keep], y[keep]\n",
    "    y = y == 3\n",
    "    return x,y"
   ]
  },
  {
   "cell_type": "code",
   "execution_count": 4,
   "id": "54dc6664",
   "metadata": {},
   "outputs": [
    {
     "name": "stdout",
     "output_type": "stream",
     "text": [
      "Number of filtered training examples: 12049\n",
      "Number of filtered test examples: 1968\n"
     ]
    }
   ],
   "source": [
    "x_train, y_train = filter_36(x_train, y_train)\n",
    "x_test, y_test = filter_36(x_test, y_test)\n",
    "\n",
    "print(\"Number of filtered training examples:\", len(x_train))\n",
    "print(\"Number of filtered test examples:\", len(x_test))\n"
   ]
  },
  {
   "cell_type": "code",
   "execution_count": 5,
   "id": "9f9295d0",
   "metadata": {},
   "outputs": [
    {
     "name": "stdout",
     "output_type": "stream",
     "text": [
      "True\n"
     ]
    },
    {
     "data": {
      "text/plain": [
       "<matplotlib.colorbar.Colorbar at 0x7f20d31dd100>"
      ]
     },
     "execution_count": 5,
     "metadata": {},
     "output_type": "execute_result"
    },
    {
     "data": {
      "image/png": "[encoded data removed]",
      "text/plain": [
       "<Figure size 640x480 with 2 Axes>"
      ]
     },
     "metadata": {},
     "output_type": "display_data"
    }
   ],
   "source": [
    "print(y_train[0])\n",
    "\n",
    "plt.imshow(x_train[0, :, :, 0])\n",
    "plt.colorbar()\n"
   ]
  },
  {
   "cell_type": "markdown",
   "id": "0a4ccfe2",
   "metadata": {},
   "source": [
    "## Rescale the image"
   ]
  },
  {
   "cell_type": "code",
   "execution_count": 9,
   "id": "bf091cb0",
   "metadata": {},
   "outputs": [
    {
     "name": "stderr",
     "output_type": "stream",
     "text": [
      "2023-07-07 14:28:21.250527: W tensorflow/core/framework/cpu_allocator_impl.cc:82] Allocation of 75571328 exceeds 10% of free system memory.\n"
     ]
    }
   ],
   "source": [
    "x_train_small = tf.image.resize(x_train, (8,8)).numpy()\n",
    "x_test_small = tf.image.resize(x_test, (8,8)).numpy()\n",
    "x_train_small = x_train_small[0:5000]\n",
    "x_test_small = x_test_small[0:500]\n",
    "y_train = y_train[0:5000]\n",
    "y_test = y_test[0:500]"
   ]
  },
  {
   "cell_type": "code",
   "execution_count": 10,
   "id": "7cc1d789",
   "metadata": {},
   "outputs": [
    {
     "name": "stdout",
     "output_type": "stream",
     "text": [
      "True\n"
     ]
    },
    {
     "data": {
      "text/plain": [
       "<matplotlib.colorbar.Colorbar at 0x7f20cc05d820>"
      ]
     },
     "execution_count": 10,
     "metadata": {},
     "output_type": "execute_result"
    },
    {
     "data": {
      "image/png": "[encoded data removed]",
      "text/plain": [
       "<Figure size 640x480 with 2 Axes>"
      ]
     },
     "metadata": {},
     "output_type": "display_data"
    }
   ],
   "source": [
    "print(y_train[0])\n",
    "\n",
    "plt.imshow(x_train_small[0,:,:,0], vmin=0, vmax=1)\n",
    "plt.colorbar()\n"
   ]
  },
  {
   "cell_type": "markdown",
   "id": "b084155f",
   "metadata": {},
   "source": [
    "## Classical Convolutional Neural Network"
   ]
  },
  {
   "cell_type": "markdown",
   "id": "db573049",
   "metadata": {},
   "source": [
    "## CLASSICAL CNN with the same number of parameters of the QCNN"
   ]
  },
  {
   "cell_type": "code",
   "execution_count": 61,
   "id": "2c7dc7db",
   "metadata": {},
   "outputs": [
    {
     "name": "stdout",
     "output_type": "stream",
     "text": [
      "Model: \"sequential_13\"\n",
      "_________________________________________________________________\n",
      " Layer (type)                Output Shape              Param #   \n",
      "=================================================================\n",
      " conv2d_12 (Conv2D)          (None, 6, 6, 32)          320       \n",
      "                                                                 \n",
      " conv2d_13 (Conv2D)          (None, 4, 4, 64)          18496     \n",
      "                                                                 \n",
      " max_pooling2d_6 (MaxPooling  (None, 2, 2, 64)         0         \n",
      " 2D)                                                             \n",
      "                                                                 \n",
      " dropout_12 (Dropout)        (None, 2, 2, 64)          0         \n",
      "                                                                 \n",
      " flatten_13 (Flatten)        (None, 256)               0         \n",
      "                                                                 \n",
      " dense_26 (Dense)            (None, 128)               32896     \n",
      "                                                                 \n",
      " dropout_13 (Dropout)        (None, 128)               0         \n",
      "                                                                 \n",
      " dense_27 (Dense)            (None, 1)                 129       \n",
      "                                                                 \n",
      "=================================================================\n",
      "Total params: 51,841\n",
      "Trainable params: 51,841\n",
      "Non-trainable params: 0\n",
      "_________________________________________________________________\n"
     ]
    }
   ],
   "source": [
    "def create_classical_model():\n",
    "    # A simple model based off LeNet from https://keras.io/examples/mnist_cnn/\n",
    "    model = tf.keras.Sequential()\n",
    "    model.add(tf.keras.layers.Conv2D(32, [3, 3], activation='relu', input_shape=(8,8,1)))\n",
    "    model.add(tf.keras.layers.Conv2D(64, [3, 3], activation='relu'))\n",
    "    model.add(tf.keras.layers.MaxPooling2D(pool_size=(2, 2)))\n",
    "    model.add(tf.keras.layers.Dropout(0.25))\n",
    "    model.add(tf.keras.layers.Flatten())\n",
    "    model.add(tf.keras.layers.Dense(128, activation='relu'))\n",
    "    model.add(tf.keras.layers.Dropout(0.5))\n",
    "    model.add(tf.keras.layers.Dense(1))\n",
    "    return model\n",
    "\n",
    "\n",
    "model = create_classical_model()\n",
    "model.compile(loss=tf.keras.losses.BinaryCrossentropy(from_logits=True),\n",
    "              optimizer=tf.keras.optimizers.Adam(),\n",
    "              metrics=['accuracy'])\n",
    "\n",
    "model.summary()\n"
   ]
  },
  {
   "cell_type": "code",
   "execution_count": 62,
   "id": "1f4add1b",
   "metadata": {},
   "outputs": [
    {
     "name": "stdout",
     "output_type": "stream",
     "text": [
      "Epoch 1/50\n",
      "40/40 [==============================] - 2s 16ms/step - loss: 0.3409 - accuracy: 0.7986 - val_loss: 0.0827 - val_accuracy: 0.9760\n",
      "Epoch 2/50\n",
      "40/40 [==============================] - 0s 10ms/step - loss: 0.0572 - accuracy: 0.9780 - val_loss: 0.0544 - val_accuracy: 0.9860\n",
      "Epoch 3/50\n",
      "40/40 [==============================] - 0s 11ms/step - loss: 0.0375 - accuracy: 0.9862 - val_loss: 0.0390 - val_accuracy: 0.9880\n",
      "Epoch 4/50\n",
      "40/40 [==============================] - 0s 12ms/step - loss: 0.0320 - accuracy: 0.9886 - val_loss: 0.0330 - val_accuracy: 0.9900\n",
      "Epoch 5/50\n",
      "40/40 [==============================] - 0s 11ms/step - loss: 0.0226 - accuracy: 0.9908 - val_loss: 0.0207 - val_accuracy: 0.9920\n",
      "Epoch 6/50\n",
      "40/40 [==============================] - 0s 9ms/step - loss: 0.0177 - accuracy: 0.9942 - val_loss: 0.0203 - val_accuracy: 0.9920\n",
      "Epoch 7/50\n",
      "40/40 [==============================] - 0s 6ms/step - loss: 0.0156 - accuracy: 0.9948 - val_loss: 0.0276 - val_accuracy: 0.9920\n",
      "Epoch 8/50\n",
      "40/40 [==============================] - 0s 6ms/step - loss: 0.0161 - accuracy: 0.9946 - val_loss: 0.0300 - val_accuracy: 0.9920\n",
      "Epoch 9/50\n",
      "40/40 [==============================] - 0s 6ms/step - loss: 0.0160 - accuracy: 0.9950 - val_loss: 0.0142 - val_accuracy: 0.9940\n",
      "Epoch 10/50\n",
      "40/40 [==============================] - 0s 5ms/step - loss: 0.0112 - accuracy: 0.9958 - val_loss: 0.0254 - val_accuracy: 0.9920\n",
      "Epoch 11/50\n",
      "40/40 [==============================] - 0s 6ms/step - loss: 0.0087 - accuracy: 0.9970 - val_loss: 0.0107 - val_accuracy: 0.9960\n",
      "Epoch 12/50\n",
      "40/40 [==============================] - 0s 5ms/step - loss: 0.0076 - accuracy: 0.9978 - val_loss: 0.0103 - val_accuracy: 0.9960\n",
      "Epoch 13/50\n",
      "40/40 [==============================] - 0s 5ms/step - loss: 0.0081 - accuracy: 0.9974 - val_loss: 0.0206 - val_accuracy: 0.9940\n",
      "Epoch 14/50\n",
      "40/40 [==============================] - 0s 6ms/step - loss: 0.0060 - accuracy: 0.9988 - val_loss: 0.0174 - val_accuracy: 0.9960\n",
      "Epoch 15/50\n",
      "40/40 [==============================] - 0s 5ms/step - loss: 0.0064 - accuracy: 0.9976 - val_loss: 0.0112 - val_accuracy: 0.9960\n",
      "Epoch 16/50\n",
      "40/40 [==============================] - 0s 5ms/step - loss: 0.0057 - accuracy: 0.9980 - val_loss: 0.0160 - val_accuracy: 0.9960\n",
      "Epoch 17/50\n",
      "40/40 [==============================] - 0s 6ms/step - loss: 0.0070 - accuracy: 0.9974 - val_loss: 0.0100 - val_accuracy: 0.9960\n",
      "Epoch 18/50\n",
      "40/40 [==============================] - 0s 5ms/step - loss: 0.0047 - accuracy: 0.9984 - val_loss: 0.0118 - val_accuracy: 0.9960\n",
      "Epoch 19/50\n",
      "40/40 [==============================] - 0s 5ms/step - loss: 0.0036 - accuracy: 0.9992 - val_loss: 0.0163 - val_accuracy: 0.9960\n",
      "Epoch 20/50\n",
      "40/40 [==============================] - 0s 6ms/step - loss: 0.0058 - accuracy: 0.9986 - val_loss: 0.0076 - val_accuracy: 0.9960\n",
      "Epoch 21/50\n",
      "40/40 [==============================] - 0s 5ms/step - loss: 0.0047 - accuracy: 0.9978 - val_loss: 0.0161 - val_accuracy: 0.9960\n",
      "Epoch 22/50\n",
      "40/40 [==============================] - 0s 5ms/step - loss: 0.0032 - accuracy: 0.9990 - val_loss: 0.0138 - val_accuracy: 0.9960\n",
      "Epoch 23/50\n",
      "40/40 [==============================] - 0s 5ms/step - loss: 0.0020 - accuracy: 0.9998 - val_loss: 0.0155 - val_accuracy: 0.9960\n",
      "Epoch 24/50\n",
      "40/40 [==============================] - 0s 5ms/step - loss: 0.0028 - accuracy: 0.9990 - val_loss: 0.0164 - val_accuracy: 0.9940\n",
      "Epoch 25/50\n",
      "40/40 [==============================] - 0s 5ms/step - loss: 0.0030 - accuracy: 0.9988 - val_loss: 0.0086 - val_accuracy: 0.9960\n",
      "Epoch 26/50\n",
      "40/40 [==============================] - 0s 5ms/step - loss: 0.0015 - accuracy: 0.9996 - val_loss: 0.0134 - val_accuracy: 0.9960\n",
      "Epoch 27/50\n",
      "40/40 [==============================] - 0s 5ms/step - loss: 0.0022 - accuracy: 0.9994 - val_loss: 0.0120 - val_accuracy: 0.9960\n",
      "Epoch 28/50\n",
      "40/40 [==============================] - 0s 5ms/step - loss: 0.0023 - accuracy: 0.9992 - val_loss: 0.0082 - val_accuracy: 0.9960\n",
      "Epoch 29/50\n",
      "40/40 [==============================] - 0s 5ms/step - loss: 0.0026 - accuracy: 0.9992 - val_loss: 0.0099 - val_accuracy: 0.9960\n",
      "Epoch 30/50\n",
      "40/40 [==============================] - 0s 5ms/step - loss: 0.0024 - accuracy: 0.9994 - val_loss: 0.0072 - val_accuracy: 0.9960\n",
      "Epoch 31/50\n",
      "40/40 [==============================] - 0s 5ms/step - loss: 0.0013 - accuracy: 0.9996 - val_loss: 0.0143 - val_accuracy: 0.9960\n",
      "Epoch 32/50\n",
      "40/40 [==============================] - 0s 5ms/step - loss: 8.7519e-04 - accuracy: 1.0000 - val_loss: 0.0133 - val_accuracy: 0.9960\n",
      "Epoch 33/50\n",
      "40/40 [==============================] - 0s 5ms/step - loss: 0.0012 - accuracy: 0.9996 - val_loss: 0.0110 - val_accuracy: 0.9960\n",
      "Epoch 34/50\n",
      "40/40 [==============================] - 0s 5ms/step - loss: 8.1145e-04 - accuracy: 0.9998 - val_loss: 0.0193 - val_accuracy: 0.9960\n",
      "Epoch 35/50\n",
      "40/40 [==============================] - 0s 5ms/step - loss: 0.0014 - accuracy: 0.9996 - val_loss: 0.0109 - val_accuracy: 0.9960\n",
      "Epoch 36/50\n",
      "40/40 [==============================] - 0s 5ms/step - loss: 8.4446e-04 - accuracy: 0.9998 - val_loss: 0.0180 - val_accuracy: 0.9960\n",
      "Epoch 37/50\n",
      "40/40 [==============================] - 0s 5ms/step - loss: 0.0010 - accuracy: 0.9996 - val_loss: 0.0117 - val_accuracy: 0.9960\n",
      "Epoch 38/50\n",
      "40/40 [==============================] - 0s 5ms/step - loss: 0.0017 - accuracy: 0.9992 - val_loss: 0.0106 - val_accuracy: 0.9960\n",
      "Epoch 39/50\n",
      "40/40 [==============================] - 0s 5ms/step - loss: 6.6841e-04 - accuracy: 1.0000 - val_loss: 0.0117 - val_accuracy: 0.9960\n",
      "Epoch 40/50\n",
      "40/40 [==============================] - 0s 7ms/step - loss: 7.6580e-04 - accuracy: 0.9998 - val_loss: 0.0129 - val_accuracy: 0.9960\n",
      "Epoch 41/50\n",
      "40/40 [==============================] - 0s 6ms/step - loss: 5.3891e-04 - accuracy: 1.0000 - val_loss: 0.0115 - val_accuracy: 0.9960\n",
      "Epoch 42/50\n",
      "40/40 [==============================] - 0s 5ms/step - loss: 5.5810e-04 - accuracy: 0.9998 - val_loss: 0.0311 - val_accuracy: 0.9940\n",
      "Epoch 43/50\n",
      "40/40 [==============================] - 0s 5ms/step - loss: 9.5126e-04 - accuracy: 0.9998 - val_loss: 0.0124 - val_accuracy: 0.9960\n",
      "Epoch 44/50\n",
      "40/40 [==============================] - 0s 5ms/step - loss: 5.1421e-04 - accuracy: 1.0000 - val_loss: 0.0215 - val_accuracy: 0.9940\n",
      "Epoch 45/50\n",
      "40/40 [==============================] - 0s 5ms/step - loss: 1.7828e-04 - accuracy: 1.0000 - val_loss: 0.0169 - val_accuracy: 0.9960\n",
      "Epoch 46/50\n",
      "40/40 [==============================] - 0s 6ms/step - loss: 3.6657e-04 - accuracy: 1.0000 - val_loss: 0.0144 - val_accuracy: 0.9960\n",
      "Epoch 47/50\n",
      "40/40 [==============================] - 0s 5ms/step - loss: 4.9264e-04 - accuracy: 1.0000 - val_loss: 0.0127 - val_accuracy: 0.9960\n",
      "Epoch 48/50\n",
      "40/40 [==============================] - 0s 5ms/step - loss: 4.0671e-04 - accuracy: 1.0000 - val_loss: 0.0158 - val_accuracy: 0.9960\n",
      "Epoch 49/50\n",
      "40/40 [==============================] - 0s 5ms/step - loss: 0.0015 - accuracy: 0.9992 - val_loss: 0.0151 - val_accuracy: 0.9960\n",
      "Epoch 50/50\n",
      "40/40 [==============================] - 0s 5ms/step - loss: 0.0165 - accuracy: 0.9954 - val_loss: 0.0270 - val_accuracy: 0.9940\n",
      "16/16 [==============================] - 0s 1ms/step - loss: 0.0270 - accuracy: 0.9940\n"
     ]
    }
   ],
   "source": [
    "\n",
    "\n",
    "notfair_nn = model.fit(x_train_small,\n",
    "          y_train,\n",
    "          batch_size=128,\n",
    "          epochs=50,\n",
    "          verbose=1,\n",
    "          validation_data=(x_test_small, y_test))\n",
    "\n",
    "cnn_results = model.evaluate(x_test_small, y_test)\n"
   ]
  },
  {
   "cell_type": "code",
   "execution_count": 63,
   "id": "0a73a44b",
   "metadata": {},
   "outputs": [
    {
     "name": "stdout",
     "output_type": "stream",
     "text": [
      "Model: \"sequential_14\"\n",
      "_________________________________________________________________\n",
      " Layer (type)                Output Shape              Param #   \n",
      "=================================================================\n",
      " flatten_14 (Flatten)        (None, 64)                0         \n",
      "                                                                 \n",
      " dense_28 (Dense)            (None, 1)                 65        \n",
      "                                                                 \n",
      " dense_29 (Dense)            (None, 1)                 2         \n",
      "                                                                 \n",
      "=================================================================\n",
      "Total params: 67\n",
      "Trainable params: 67\n",
      "Non-trainable params: 0\n",
      "_________________________________________________________________\n"
     ]
    }
   ],
   "source": [
    "def create_fair_classical_model():\n",
    "    # A simple model based off LeNet from https://keras.io/examples/mnist_cnn/\n",
    "    model = tf.keras.Sequential()\n",
    "    model.add(tf.keras.layers.Flatten(input_shape=(8,8,1)))\n",
    "    model.add(tf.keras.layers.Dense(1, activation='relu'))\n",
    "    model.add(tf.keras.layers.Dense(1))\n",
    "    return model\n",
    "\n",
    "\n",
    "model = create_fair_classical_model()\n",
    "model.compile(loss=tf.keras.losses.BinaryCrossentropy(from_logits=True),\n",
    "              optimizer=tf.keras.optimizers.Adam(),\n",
    "              metrics=['accuracy'])\n",
    "\n",
    "model.summary()\n"
   ]
  },
  {
   "cell_type": "code",
   "execution_count": 64,
   "id": "0b2d544f",
   "metadata": {
    "scrolled": true
   },
   "outputs": [
    {
     "name": "stdout",
     "output_type": "stream",
     "text": [
      "Epoch 1/50\n",
      "40/40 - 0s - loss: 0.6470 - accuracy: 0.6130 - val_loss: 0.6060 - val_accuracy: 0.7360 - 374ms/epoch - 9ms/step\n",
      "Epoch 2/50\n",
      "40/40 - 0s - loss: 0.5905 - accuracy: 0.7896 - val_loss: 0.5566 - val_accuracy: 0.8440 - 40ms/epoch - 991us/step\n",
      "Epoch 3/50\n",
      "40/40 - 0s - loss: 0.5423 - accuracy: 0.8806 - val_loss: 0.5170 - val_accuracy: 0.9000 - 38ms/epoch - 941us/step\n",
      "Epoch 4/50\n",
      "40/40 - 0s - loss: 0.5023 - accuracy: 0.9176 - val_loss: 0.4839 - val_accuracy: 0.9180 - 40ms/epoch - 1ms/step\n",
      "Epoch 5/50\n",
      "40/40 - 0s - loss: 0.4688 - accuracy: 0.9366 - val_loss: 0.4560 - val_accuracy: 0.9400 - 40ms/epoch - 1ms/step\n",
      "Epoch 6/50\n",
      "40/40 - 0s - loss: 0.4403 - accuracy: 0.9458 - val_loss: 0.4320 - val_accuracy: 0.9500 - 42ms/epoch - 1ms/step\n",
      "Epoch 7/50\n",
      "40/40 - 0s - loss: 0.4159 - accuracy: 0.9510 - val_loss: 0.4109 - val_accuracy: 0.9560 - 40ms/epoch - 1ms/step\n",
      "Epoch 8/50\n",
      "40/40 - 0s - loss: 0.3944 - accuracy: 0.9548 - val_loss: 0.3923 - val_accuracy: 0.9600 - 41ms/epoch - 1ms/step\n",
      "Epoch 9/50\n",
      "40/40 - 0s - loss: 0.3754 - accuracy: 0.9602 - val_loss: 0.3751 - val_accuracy: 0.9600 - 41ms/epoch - 1ms/step\n",
      "Epoch 10/50\n",
      "40/40 - 0s - loss: 0.3582 - accuracy: 0.9644 - val_loss: 0.3596 - val_accuracy: 0.9660 - 40ms/epoch - 1ms/step\n",
      "Epoch 11/50\n",
      "40/40 - 0s - loss: 0.3426 - accuracy: 0.9652 - val_loss: 0.3456 - val_accuracy: 0.9680 - 46ms/epoch - 1ms/step\n",
      "Epoch 12/50\n",
      "40/40 - 0s - loss: 0.3285 - accuracy: 0.9680 - val_loss: 0.3327 - val_accuracy: 0.9700 - 41ms/epoch - 1ms/step\n",
      "Epoch 13/50\n",
      "40/40 - 0s - loss: 0.3155 - accuracy: 0.9698 - val_loss: 0.3213 - val_accuracy: 0.9700 - 43ms/epoch - 1ms/step\n",
      "Epoch 14/50\n",
      "40/40 - 0s - loss: 0.3035 - accuracy: 0.9712 - val_loss: 0.3099 - val_accuracy: 0.9700 - 42ms/epoch - 1ms/step\n",
      "Epoch 15/50\n",
      "40/40 - 0s - loss: 0.2924 - accuracy: 0.9718 - val_loss: 0.2999 - val_accuracy: 0.9700 - 42ms/epoch - 1ms/step\n",
      "Epoch 16/50\n",
      "40/40 - 0s - loss: 0.2820 - accuracy: 0.9726 - val_loss: 0.2901 - val_accuracy: 0.9720 - 42ms/epoch - 1ms/step\n",
      "Epoch 17/50\n",
      "40/40 - 0s - loss: 0.2725 - accuracy: 0.9734 - val_loss: 0.2808 - val_accuracy: 0.9740 - 39ms/epoch - 982us/step\n",
      "Epoch 18/50\n",
      "40/40 - 0s - loss: 0.2634 - accuracy: 0.9744 - val_loss: 0.2728 - val_accuracy: 0.9740 - 40ms/epoch - 1ms/step\n",
      "Epoch 19/50\n",
      "40/40 - 0s - loss: 0.2549 - accuracy: 0.9752 - val_loss: 0.2652 - val_accuracy: 0.9760 - 41ms/epoch - 1ms/step\n",
      "Epoch 20/50\n",
      "40/40 - 0s - loss: 0.2468 - accuracy: 0.9760 - val_loss: 0.2575 - val_accuracy: 0.9780 - 41ms/epoch - 1ms/step\n",
      "Epoch 21/50\n",
      "40/40 - 0s - loss: 0.2392 - accuracy: 0.9764 - val_loss: 0.2501 - val_accuracy: 0.9780 - 48ms/epoch - 1ms/step\n",
      "Epoch 22/50\n",
      "40/40 - 0s - loss: 0.2320 - accuracy: 0.9770 - val_loss: 0.2429 - val_accuracy: 0.9780 - 42ms/epoch - 1ms/step\n",
      "Epoch 23/50\n",
      "40/40 - 0s - loss: 0.2252 - accuracy: 0.9772 - val_loss: 0.2363 - val_accuracy: 0.9780 - 46ms/epoch - 1ms/step\n",
      "Epoch 24/50\n",
      "40/40 - 0s - loss: 0.2188 - accuracy: 0.9780 - val_loss: 0.2304 - val_accuracy: 0.9800 - 41ms/epoch - 1ms/step\n",
      "Epoch 25/50\n",
      "40/40 - 0s - loss: 0.2126 - accuracy: 0.9782 - val_loss: 0.2243 - val_accuracy: 0.9800 - 42ms/epoch - 1ms/step\n",
      "Epoch 26/50\n",
      "40/40 - 0s - loss: 0.2067 - accuracy: 0.9784 - val_loss: 0.2190 - val_accuracy: 0.9800 - 43ms/epoch - 1ms/step\n",
      "Epoch 27/50\n",
      "40/40 - 0s - loss: 0.2009 - accuracy: 0.9794 - val_loss: 0.2137 - val_accuracy: 0.9800 - 44ms/epoch - 1ms/step\n",
      "Epoch 28/50\n",
      "40/40 - 0s - loss: 0.1956 - accuracy: 0.9794 - val_loss: 0.2085 - val_accuracy: 0.9800 - 42ms/epoch - 1ms/step\n",
      "Epoch 29/50\n",
      "40/40 - 0s - loss: 0.1904 - accuracy: 0.9812 - val_loss: 0.2041 - val_accuracy: 0.9800 - 43ms/epoch - 1ms/step\n",
      "Epoch 30/50\n",
      "40/40 - 0s - loss: 0.1854 - accuracy: 0.9804 - val_loss: 0.1983 - val_accuracy: 0.9800 - 42ms/epoch - 1ms/step\n",
      "Epoch 31/50\n",
      "40/40 - 0s - loss: 0.1808 - accuracy: 0.9806 - val_loss: 0.1947 - val_accuracy: 0.9800 - 43ms/epoch - 1ms/step\n",
      "Epoch 32/50\n",
      "40/40 - 0s - loss: 0.1763 - accuracy: 0.9810 - val_loss: 0.1907 - val_accuracy: 0.9800 - 42ms/epoch - 1ms/step\n",
      "Epoch 33/50\n",
      "40/40 - 0s - loss: 0.1720 - accuracy: 0.9810 - val_loss: 0.1865 - val_accuracy: 0.9800 - 41ms/epoch - 1ms/step\n",
      "Epoch 34/50\n",
      "40/40 - 0s - loss: 0.1678 - accuracy: 0.9812 - val_loss: 0.1820 - val_accuracy: 0.9800 - 46ms/epoch - 1ms/step\n",
      "Epoch 35/50\n",
      "40/40 - 0s - loss: 0.1639 - accuracy: 0.9810 - val_loss: 0.1784 - val_accuracy: 0.9800 - 40ms/epoch - 1ms/step\n",
      "Epoch 36/50\n",
      "40/40 - 0s - loss: 0.1600 - accuracy: 0.9818 - val_loss: 0.1759 - val_accuracy: 0.9780 - 47ms/epoch - 1ms/step\n",
      "Epoch 37/50\n",
      "40/40 - 0s - loss: 0.1563 - accuracy: 0.9818 - val_loss: 0.1713 - val_accuracy: 0.9800 - 42ms/epoch - 1ms/step\n",
      "Epoch 38/50\n",
      "40/40 - 0s - loss: 0.1528 - accuracy: 0.9822 - val_loss: 0.1689 - val_accuracy: 0.9760 - 41ms/epoch - 1ms/step\n",
      "Epoch 39/50\n",
      "40/40 - 0s - loss: 0.1494 - accuracy: 0.9818 - val_loss: 0.1649 - val_accuracy: 0.9780 - 42ms/epoch - 1ms/step\n",
      "Epoch 40/50\n",
      "40/40 - 0s - loss: 0.1460 - accuracy: 0.9822 - val_loss: 0.1617 - val_accuracy: 0.9760 - 42ms/epoch - 1ms/step\n",
      "Epoch 41/50\n",
      "40/40 - 0s - loss: 0.1429 - accuracy: 0.9824 - val_loss: 0.1587 - val_accuracy: 0.9780 - 42ms/epoch - 1ms/step\n",
      "Epoch 42/50\n",
      "40/40 - 0s - loss: 0.1398 - accuracy: 0.9822 - val_loss: 0.1558 - val_accuracy: 0.9760 - 43ms/epoch - 1ms/step\n",
      "Epoch 43/50\n",
      "40/40 - 0s - loss: 0.1369 - accuracy: 0.9824 - val_loss: 0.1530 - val_accuracy: 0.9760 - 42ms/epoch - 1ms/step\n",
      "Epoch 44/50\n",
      "40/40 - 0s - loss: 0.1340 - accuracy: 0.9826 - val_loss: 0.1502 - val_accuracy: 0.9800 - 41ms/epoch - 1ms/step\n",
      "Epoch 45/50\n",
      "40/40 - 0s - loss: 0.1312 - accuracy: 0.9826 - val_loss: 0.1468 - val_accuracy: 0.9800 - 43ms/epoch - 1ms/step\n",
      "Epoch 46/50\n",
      "40/40 - 0s - loss: 0.1286 - accuracy: 0.9828 - val_loss: 0.1447 - val_accuracy: 0.9800 - 45ms/epoch - 1ms/step\n",
      "Epoch 47/50\n",
      "40/40 - 0s - loss: 0.1260 - accuracy: 0.9834 - val_loss: 0.1424 - val_accuracy: 0.9800 - 44ms/epoch - 1ms/step\n",
      "Epoch 48/50\n",
      "40/40 - 0s - loss: 0.1235 - accuracy: 0.9830 - val_loss: 0.1401 - val_accuracy: 0.9800 - 45ms/epoch - 1ms/step\n",
      "Epoch 49/50\n",
      "40/40 - 0s - loss: 0.1211 - accuracy: 0.9836 - val_loss: 0.1373 - val_accuracy: 0.9800 - 42ms/epoch - 1ms/step\n",
      "Epoch 50/50\n",
      "40/40 - 0s - loss: 0.1187 - accuracy: 0.9836 - val_loss: 0.1355 - val_accuracy: 0.9800 - 41ms/epoch - 1ms/step\n",
      "16/16 [==============================] - 0s 762us/step - loss: 0.1355 - accuracy: 0.9800\n"
     ]
    }
   ],
   "source": [
    "fair_nn = model.fit(x_train_small,\n",
    "          y_train,\n",
    "          batch_size=128,\n",
    "          epochs=50,\n",
    "          verbose=2,\n",
    "          validation_data=(x_test_small, y_test))\n",
    "\n",
    "fair_nn_results = model.evaluate(x_test_small, y_test)\n"
   ]
  },
  {
   "cell_type": "code",
   "execution_count": 1,
   "id": "6ac3b648",
   "metadata": {},
   "outputs": [
    {
     "ename": "NameError",
     "evalue": "name 'plt' is not defined",
     "output_type": "error",
     "traceback": [
      "\u001b[0;31m---------------------------------------------------------------------------\u001b[0m",
      "\u001b[0;31mNameError\u001b[0m                                 Traceback (most recent call last)",
      "Cell \u001b[0;32mIn[1], line 1\u001b[0m\n\u001b[0;32m----> 1\u001b[0m \u001b[43mplt\u001b[49m\u001b[38;5;241m.\u001b[39mplot(fair_nn\u001b[38;5;241m.\u001b[39mhistory[\u001b[38;5;124m'\u001b[39m\u001b[38;5;124mval_accuracy\u001b[39m\u001b[38;5;124m'\u001b[39m], label\u001b[38;5;241m=\u001b[39m\u001b[38;5;124m'\u001b[39m\u001b[38;5;124mQCNN\u001b[39m\u001b[38;5;124m'\u001b[39m)\n\u001b[1;32m      2\u001b[0m plt\u001b[38;5;241m.\u001b[39mtitle(\u001b[38;5;124m'\u001b[39m\u001b[38;5;124mQuantum vs Hybrid CNN performance\u001b[39m\u001b[38;5;124m'\u001b[39m)\n\u001b[1;32m      3\u001b[0m plt\u001b[38;5;241m.\u001b[39mxlabel(\u001b[38;5;124m'\u001b[39m\u001b[38;5;124mEpochs\u001b[39m\u001b[38;5;124m'\u001b[39m)\n",
      "\u001b[0;31mNameError\u001b[0m: name 'plt' is not defined"
     ]
    }
   ],
   "source": [
    "plt.plot(fair_nn.history['val_accuracy'], label='QCNN')\n",
    "plt.title('Quantum vs Hybrid CNN performance')\n",
    "plt.xlabel('Epochs')\n",
    "plt.legend()\n",
    "plt.ylabel('Validation Accuracy')\n",
    "plt.show()\n",
    "\n",
    "\n",
    "ll = np.loadtxt(\"2loss.txt\")\n",
    "vl = np.loadtxt(\"2val_loss.txt\")\n",
    "\n",
    "\n",
    "q = np.loadtxt(\"2val_acc.txt\")\n",
    "c = fair_nn.history['val_accuracy']\n",
    "cc = notfair_nn.history['val_accuracy']\n",
    "\n",
    "qnn_accuracy = np.mean(q[30:])\n",
    "cnn_accuracy = np.mean(cc[30:])\n",
    "fair_nn_accuracy = np.mean(c[30:])\n",
    "\n",
    "\n",
    "\n"
   ]
  },
  {
   "cell_type": "code",
   "execution_count": null,
   "id": "7c635099",
   "metadata": {
    "scrolled": true
   },
   "outputs": [],
   "source": [
    "fig, axLL = plt.subplots(1, 1 , figsize=(6, 6))\n",
    "\n",
    "\n",
    "axLL.plot(c,\"-.\", marker= \"o\", markersize=2, label = \"Fair Classical model\", color=\"green\")\n",
    "axLL.plot(q,\"-.\", marker= \"x\", markersize=3, label = \"Quantum model\", color=\"violet\")\n",
    "axLL.plot(cc,\"-.\", marker= \"x\", markersize=3, label = \"Not-fair Classical model\", color=\"orange\")\n",
    "\n",
    "axLL.set_xlabel(\"epochs\")\n",
    "axLL.set_ylabel(\"Accuracy\")\n",
    "axLL.legend(loc = 'best')\n",
    "axLL.set_title(\"Classical-Quantum comparison\")\n",
    "#axLL.set_ylim(-5.7,-5.1)\n",
    "#plt.ylim(-0.2,0.1)\n",
    "axLL.grid(True, which= \"both\")\n",
    "l, b, h, w = .4, .4, .2, .45\n",
    "ax3 = fig.add_axes([l, b, w, h])\n",
    "plt.ylim(0.7, 1.1)\n",
    "x = [\"Quantum\", \"Not-fair \\n Classical\", \"Fair Classical\"]\n",
    "y = [qnn_accuracy, cnn_accuracy, fair_nn_accuracy]\n",
    "plt.bar(x,y, color=(\"violet\",\"orange\",\"green\" ))\n",
    "# Adding labels to each bar\n",
    "\n",
    "for i in range(len(x)):\n",
    "    plt.text(x[i], y[i], '{:.3f}'.format(y[i]), ha='center', va='bottom')"
   ]
  },
  {
   "cell_type": "code",
   "execution_count": 107,
   "id": "5876d222",
   "metadata": {},
   "outputs": [
    {
     "data": {
      "image/png": "[encoded data removed]",
      "text/plain": [
       "<Figure size 600x600 with 1 Axes>"
      ]
     },
     "metadata": {},
     "output_type": "display_data"
    }
   ],
   "source": [
    "fig, axLL = plt.subplots(1, 1 , figsize=(6, 6))\n",
    "\n",
    "\n",
    "axLL.plot(ll,\"-.\", marker= \"o\", markersize=2, label = \"Training Loss\", color=\"green\")\n",
    "axLL.plot(vl,\"-.\", marker= \"x\", markersize=3, label = \"Validation Loss\", color=\"violet\")\n",
    "\n",
    "axLL.set_xlabel(\"epochs\")\n",
    "axLL.set_ylabel(\"Loss\")\n",
    "axLL.legend(loc = 'best')\n",
    "axLL.set_title(\"Quantum model Loss function\")\n",
    "#axLL.set_ylim(-5.7,-5.1)\n",
    "#plt.ylim(-0.2,0.1)\n",
    "axLL.grid(True, which= \"both\")\n"
   ]
  },
  {
   "cell_type": "code",
   "execution_count": null,
   "id": "46d16cb8",
   "metadata": {},
   "outputs": [],
   "source": []
  }
 ],
 "metadata": {
  "kernelspec": {
   "display_name": "qcnn",
   "language": "python",
   "name": "qcnn"
  },
  "language_info": {
   "codemirror_mode": {
    "name": "ipython",
    "version": 3
   },
   "file_extension": ".py",
   "mimetype": "text/x-python",
   "name": "python",
   "nbconvert_exporter": "python",
   "pygments_lexer": "ipython3",
   "version": "3.8.10"
  }
 },
 "nbformat": 4,
 "nbformat_minor": 5
}
